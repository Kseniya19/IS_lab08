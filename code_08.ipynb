{
 "cells": [
  {
   "cell_type": "code",
   "execution_count": 1,
   "id": "2616c12c-89bf-4b0f-a20c-d0faf8e0d978",
   "metadata": {},
   "outputs": [],
   "source": [
    "import string\n",
    "import random"
   ]
  },
  {
   "cell_type": "code",
   "execution_count": 30,
   "id": "910b2886-b4b4-4cae-bf01-46c6e13bef50",
   "metadata": {},
   "outputs": [],
   "source": [
    "def fun_1(text):\n",
    "    return ' '.join(hex(ord(i))[2:] for i in text)\n",
    "\n",
    "def fun_2(size):\n",
    "    return ''.join(random.choice(string.ascii_letters+string.digits) for _ in range(size))\n",
    "\n",
    "def fun_3(text1, text2):\n",
    "    text_1 = [ord(i) for i in text1]\n",
    "    text_2 = [ord(i) for i in text2]\n",
    "    return ''.join(chr(a^b) for a, b in zip(text_1, text_2))"
   ]
  },
  {
   "cell_type": "code",
   "execution_count": 50,
   "id": "56230003-a90c-471f-9991-a050adde2ae4",
   "metadata": {},
   "outputs": [
    {
     "name": "stdout",
     "output_type": "stream",
     "text": [
      "20\n",
      "20\n"
     ]
    }
   ],
   "source": [
    "p1 = \"_Звездопад столетия_\"\n",
    "p2 = \"Уставший программист\"\n",
    "\n",
    "print(len(p1))\n",
    "print(len(p2))"
   ]
  },
  {
   "cell_type": "code",
   "execution_count": 51,
   "id": "3f57135a-786c-4666-b954-294fe5b78bf9",
   "metadata": {},
   "outputs": [
    {
     "name": "stdout",
     "output_type": "stream",
     "text": [
      "Ключ в символьном виде:  WWoNMxKbyG5AXZGBeMqR\n",
      "Ключ в шестнадцатиричном виде:  57 57 6f 4e 4d 78 4b 62 79 47 35 41 58 5a 47 42 65 4d 71 52\n"
     ]
    }
   ],
   "source": [
    "key = fun_2(len(p1))\n",
    "print(\"Ключ в символьном виде: \", key)\n",
    "key_16 = fun_1(key)\n",
    "print(\"Ключ в шестнадцатиричном виде: \", key_16)"
   ]
  },
  {
   "cell_type": "code",
   "execution_count": 52,
   "id": "43efdc32-9142-4e33-836a-269f6c2a9516",
   "metadata": {},
   "outputs": [
    {
     "name": "stdout",
     "output_type": "stream",
     "text": [
      "Символьный вид текста 1: рѝѻѺьѵѝщѳ\u0015ЀКѤѼѷЧѵо\n",
      "Символьный вид текста 2:  ѴЖЭѾѿаѳћYѸѵѿѫКѷѾљѵаА\n",
      "Текст 1 в виде шифра:  8 440 45d 47b 47a 44c 475 45d 449 473 15 400 41a 464 47c 477 427 475 43e d\n",
      "Текст 2 в виде шифра:  474 416 42d 47e 47f 430 473 45b 59 478 475 47f 46b 41a 477 47e 459 475 430 410\n"
     ]
    }
   ],
   "source": [
    "c1 = fun_3(p1, key)\n",
    "c2 = fun_3(p2, key)\n",
    "print(\"Символьный вид текста 1: \", c1)\n",
    "print(\"Символьный вид текста 2: \", c2)\n",
    "\n",
    "c1_16 = fun_1(c1)\n",
    "c2_16 = fun_1(c2)\n",
    "print(\"Текст 1 в виде шифра: \", c1_16)\n",
    "print(\"Текст 2 в виде шифра: \", c2_16)"
   ]
  },
  {
   "cell_type": "code",
   "execution_count": 53,
   "id": "6ef49416-4331-42f8-a86b-e0f7866b3fae",
   "metadata": {},
   "outputs": [
    {
     "name": "stdout",
     "output_type": "stream",
     "text": [
      "Расшифрованный текст 1:  _Звездопад столетия_\n",
      "Расшифрованный текст 2:  Уставший программист\n"
     ]
    }
   ],
   "source": [
    "decr = fun_3(c1, c2)\n",
    "print(\"Расшифрованный текст 1: \", fun_3(decr, p2))\n",
    "print(\"Расшифрованный текст 2: \", fun_3(decr, p1))"
   ]
  },
  {
   "cell_type": "code",
   "execution_count": null,
   "id": "88d9b5e6-40b0-4f4e-ace8-43d68fbafb09",
   "metadata": {},
   "outputs": [],
   "source": []
  }
 ],
 "metadata": {
  "kernelspec": {
   "display_name": "Python 3",
   "language": "python",
   "name": "python3"
  },
  "language_info": {
   "codemirror_mode": {
    "name": "ipython",
    "version": 3
   },
   "file_extension": ".py",
   "mimetype": "text/x-python",
   "name": "python",
   "nbconvert_exporter": "python",
   "pygments_lexer": "ipython3",
   "version": "3.8.8"
  }
 },
 "nbformat": 4,
 "nbformat_minor": 5
}
